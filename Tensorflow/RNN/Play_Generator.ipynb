{
  "nbformat": 4,
  "nbformat_minor": 0,
  "metadata": {
    "colab": {
      "name": "Play Generator.ipynb",
      "provenance": [],
      "authorship_tag": "ABX9TyNV+0xztemoBuDXX38w/68O",
      "include_colab_link": true
    },
    "kernelspec": {
      "name": "python3",
      "display_name": "Python 3"
    },
    "language_info": {
      "name": "python"
    },
    "accelerator": "GPU"
  },
  "cells": [
    {
      "cell_type": "markdown",
      "metadata": {
        "id": "view-in-github",
        "colab_type": "text"
      },
      "source": [
        "<a href=\"https://colab.research.google.com/github/UrviSinghal28/Machine-Learning-with-Python/blob/main/Tensorflow/RNN/Play_Generator.ipynb\" target=\"_parent\"><img src=\"https://colab.research.google.com/assets/colab-badge.svg\" alt=\"Open In Colab\"/></a>"
      ]
    },
    {
      "cell_type": "markdown",
      "source": [
        "# RNN Play Generator  \n",
        "Now time for one of the coolest examples we've seen so far. We are going to use a RNN to generate a play. We will simply show the RNN an example of something we want it to recreate and it will learn how to write a version of it on its own. We'll do this using a character predictive model that will take as input a variable length sequence and predict the next character. We can use the model many times in a row with the output from the last predicition as the input for the next call to generate a sequence.\n",
        "\n",
        "This guide is based on the following: https://www.tensorflow.org/tutorials/text/text_generation"
      ],
      "metadata": {
        "id": "T9YTv2C4OpSa"
      }
    },
    {
      "cell_type": "code",
      "execution_count": 1,
      "metadata": {
        "colab": {
          "base_uri": "https://localhost:8080/"
        },
        "id": "o9i5yAhzOoPQ",
        "outputId": "def5aad7-f029-4700-ec11-e006811e897d"
      },
      "outputs": [
        {
          "output_type": "stream",
          "name": "stdout",
          "text": [
            "`%tensorflow_version` only switches the major version: 1.x or 2.x.\n",
            "You set: `2.x  # this line is not required unless you are in a notebook`. This will be interpreted as: `2.x`.\n",
            "\n",
            "\n",
            "TensorFlow 2.x selected.\n"
          ]
        }
      ],
      "source": [
        "%tensorflow_version 2.x  # this line is not required unless you are in a notebook\n",
        "from keras.preprocessing import sequence\n",
        "import keras\n",
        "import tensorflow as tf\n",
        "import os\n",
        "import numpy as np"
      ]
    },
    {
      "cell_type": "code",
      "source": [
        "path_to_file = tf.keras.utils.get_file('shakespeare.txt', 'https://storage.googleapis.com/download.tensorflow.org/data/shakespeare.txt')"
      ],
      "metadata": {
        "colab": {
          "base_uri": "https://localhost:8080/"
        },
        "id": "oFaa3BCkOxD6",
        "outputId": "9f3be263-12c2-4dc6-b8ef-7c8cb063de94"
      },
      "execution_count": 2,
      "outputs": [
        {
          "output_type": "stream",
          "name": "stdout",
          "text": [
            "Downloading data from https://storage.googleapis.com/download.tensorflow.org/data/shakespeare.txt\n",
            "1122304/1115394 [==============================] - 0s 0us/step\n",
            "1130496/1115394 [==============================] - 0s 0us/step\n"
          ]
        }
      ]
    },
    {
      "cell_type": "code",
      "source": [
        "#for loading data from device\n",
        "# from google.colab import files\n",
        "# path_to_file = list(files.upload().keys())[0]"
      ],
      "metadata": {
        "id": "8a8y_DBbO4Ac"
      },
      "execution_count": 3,
      "outputs": []
    },
    {
      "cell_type": "code",
      "source": [
        "# Read, then decode for py2 compat.\n",
        "text = open(path_to_file, 'rb').read().decode(encoding='utf-8')\n",
        "# length of text is the number of characters in it\n",
        "print ('Length of text: {} characters'.format(len(text)))"
      ],
      "metadata": {
        "colab": {
          "base_uri": "https://localhost:8080/"
        },
        "id": "LKAJJNyMO_ft",
        "outputId": "cbc08090-2166-4284-f5c0-1809d0b2cd95"
      },
      "execution_count": 4,
      "outputs": [
        {
          "output_type": "stream",
          "name": "stdout",
          "text": [
            "Length of text: 1115394 characters\n"
          ]
        }
      ]
    },
    {
      "cell_type": "code",
      "source": [
        "# Take a look at the first 250 characters in text\n",
        "print(text[:250])"
      ],
      "metadata": {
        "colab": {
          "base_uri": "https://localhost:8080/"
        },
        "id": "Ow3qRsGPPCAu",
        "outputId": "10ee7a8d-86c3-4926-d1f6-6d246da9c5f4"
      },
      "execution_count": 5,
      "outputs": [
        {
          "output_type": "stream",
          "name": "stdout",
          "text": [
            "First Citizen:\n",
            "Before we proceed any further, hear me speak.\n",
            "\n",
            "All:\n",
            "Speak, speak.\n",
            "\n",
            "First Citizen:\n",
            "You are all resolved rather to die than to famish?\n",
            "\n",
            "All:\n",
            "Resolved. resolved.\n",
            "\n",
            "First Citizen:\n",
            "First, you know Caius Marcius is chief enemy to the people.\n",
            "\n"
          ]
        }
      ]
    },
    {
      "cell_type": "code",
      "source": [
        "vocab = sorted(set(text))\n",
        "# Creating a mapping from unique characters to indices\n",
        "char2idx = {u:i for i, u in enumerate(vocab)}\n",
        "idx2char = np.array(vocab)\n",
        "\n",
        "def text_to_int(text):\n",
        "  return np.array([char2idx[c] for c in text])\n",
        "\n",
        "text_as_int = text_to_int(text)"
      ],
      "metadata": {
        "id": "mszNrhFHPEXN"
      },
      "execution_count": 6,
      "outputs": []
    },
    {
      "cell_type": "code",
      "source": [
        "# lets look at how part of our text is encoded\n",
        "print(\"Text:\", text[:13])\n",
        "print(\"Encoded:\", text_to_int(text[:13]))"
      ],
      "metadata": {
        "colab": {
          "base_uri": "https://localhost:8080/"
        },
        "id": "G3QeZSVFPHan",
        "outputId": "88352e5c-3032-4220-aaf4-ddb5e243d7d9"
      },
      "execution_count": 7,
      "outputs": [
        {
          "output_type": "stream",
          "name": "stdout",
          "text": [
            "Text: First Citizen\n",
            "Encoded: [18 47 56 57 58  1 15 47 58 47 64 43 52]\n"
          ]
        }
      ]
    },
    {
      "cell_type": "code",
      "source": [
        "def int_to_text(ints):\n",
        "  try:\n",
        "    ints = ints.numpy()\n",
        "  except:\n",
        "    pass\n",
        "  return ''.join(idx2char[ints])\n",
        "\n",
        "print(int_to_text(text_as_int[:13]))"
      ],
      "metadata": {
        "colab": {
          "base_uri": "https://localhost:8080/"
        },
        "id": "5SyiATMePJZu",
        "outputId": "75317f32-8b26-45ff-8499-cb6996955300"
      },
      "execution_count": 8,
      "outputs": [
        {
          "output_type": "stream",
          "name": "stdout",
          "text": [
            "First Citizen\n"
          ]
        }
      ]
    },
    {
      "cell_type": "code",
      "source": [
        "seq_length = 100  # length of sequence for a training example\n",
        "examples_per_epoch = len(text)//(seq_length+1)\n",
        "\n",
        "# Create training examples / targets\n",
        "char_dataset = tf.data.Dataset.from_tensor_slices(text_as_int)"
      ],
      "metadata": {
        "id": "vGrhDWDlPQJU"
      },
      "execution_count": 9,
      "outputs": []
    },
    {
      "cell_type": "code",
      "source": [
        "sequences = char_dataset.batch(seq_length+1, drop_remainder=True)"
      ],
      "metadata": {
        "id": "530vBkUqPTTM"
      },
      "execution_count": 10,
      "outputs": []
    },
    {
      "cell_type": "code",
      "source": [
        "def split_input_target(chunk):  # for the example: hello\n",
        "    input_text = chunk[:-1]  # hell\n",
        "    target_text = chunk[1:]  # ello\n",
        "    return input_text, target_text  # hell, ello\n",
        "\n",
        "dataset = sequences.map(split_input_target)  # we use map to apply the above function to every entry"
      ],
      "metadata": {
        "id": "3AXoaY1cPdjF"
      },
      "execution_count": 11,
      "outputs": []
    },
    {
      "cell_type": "code",
      "source": [
        "for x, y in dataset.take(2):\n",
        "  print(\"\\n\\nEXAMPLE\\n\")\n",
        "  print(\"INPUT\")\n",
        "  print(int_to_text(x))\n",
        "  print(\"\\nOUTPUT\")\n",
        "  print(int_to_text(y))"
      ],
      "metadata": {
        "colab": {
          "base_uri": "https://localhost:8080/"
        },
        "id": "jcRRCHMxPf71",
        "outputId": "496ad597-57aa-4815-a82a-fd3cfeb05adb"
      },
      "execution_count": 12,
      "outputs": [
        {
          "output_type": "stream",
          "name": "stdout",
          "text": [
            "\n",
            "\n",
            "EXAMPLE\n",
            "\n",
            "INPUT\n",
            "First Citizen:\n",
            "Before we proceed any further, hear me speak.\n",
            "\n",
            "All:\n",
            "Speak, speak.\n",
            "\n",
            "First Citizen:\n",
            "You\n",
            "\n",
            "OUTPUT\n",
            "irst Citizen:\n",
            "Before we proceed any further, hear me speak.\n",
            "\n",
            "All:\n",
            "Speak, speak.\n",
            "\n",
            "First Citizen:\n",
            "You \n",
            "\n",
            "\n",
            "EXAMPLE\n",
            "\n",
            "INPUT\n",
            "are all resolved rather to die than to famish?\n",
            "\n",
            "All:\n",
            "Resolved. resolved.\n",
            "\n",
            "First Citizen:\n",
            "First, you \n",
            "\n",
            "OUTPUT\n",
            "re all resolved rather to die than to famish?\n",
            "\n",
            "All:\n",
            "Resolved. resolved.\n",
            "\n",
            "First Citizen:\n",
            "First, you k\n"
          ]
        }
      ]
    },
    {
      "cell_type": "code",
      "source": [
        "BATCH_SIZE = 64\n",
        "VOCAB_SIZE = len(vocab)  # vocab is number of unique characters\n",
        "EMBEDDING_DIM = 256\n",
        "RNN_UNITS = 1024\n",
        "\n",
        "# Buffer size to shuffle the dataset\n",
        "# (TF data is designed to work with possibly infinite sequences,\n",
        "# so it doesn't attempt to shuffle the entire sequence in memory. Instead,\n",
        "# it maintains a buffer in which it shuffles elements).\n",
        "BUFFER_SIZE = 10000\n",
        "\n",
        "data = dataset.shuffle(BUFFER_SIZE).batch(BATCH_SIZE, drop_remainder=True)"
      ],
      "metadata": {
        "id": "cFlFxUULPkEu"
      },
      "execution_count": 13,
      "outputs": []
    },
    {
      "cell_type": "code",
      "source": [
        "def build_model(vocab_size, embedding_dim, rnn_units, batch_size):\n",
        "  model = tf.keras.Sequential([\n",
        "    tf.keras.layers.Embedding(vocab_size, embedding_dim,\n",
        "                              batch_input_shape=[batch_size, None]),\n",
        "    tf.keras.layers.LSTM(rnn_units,\n",
        "                        return_sequences=True,\n",
        "                        stateful=True,\n",
        "                        recurrent_initializer='glorot_uniform'),\n",
        "    tf.keras.layers.Dense(vocab_size)\n",
        "  ])\n",
        "  return model\n",
        "\n",
        "model = build_model(VOCAB_SIZE,EMBEDDING_DIM, RNN_UNITS, BATCH_SIZE)\n",
        "model.summary()"
      ],
      "metadata": {
        "colab": {
          "base_uri": "https://localhost:8080/"
        },
        "id": "OvmtWPiVPp4U",
        "outputId": "14fe4ced-bb7e-4f4b-fcce-e7ddd400d071"
      },
      "execution_count": 14,
      "outputs": [
        {
          "output_type": "stream",
          "name": "stdout",
          "text": [
            "Model: \"sequential\"\n",
            "_________________________________________________________________\n",
            " Layer (type)                Output Shape              Param #   \n",
            "=================================================================\n",
            " embedding (Embedding)       (64, None, 256)           16640     \n",
            "                                                                 \n",
            " lstm (LSTM)                 (64, None, 1024)          5246976   \n",
            "                                                                 \n",
            " dense (Dense)               (64, None, 65)            66625     \n",
            "                                                                 \n",
            "=================================================================\n",
            "Total params: 5,330,241\n",
            "Trainable params: 5,330,241\n",
            "Non-trainable params: 0\n",
            "_________________________________________________________________\n"
          ]
        }
      ]
    },
    {
      "cell_type": "markdown",
      "source": [
        "**Creating Loss Function**"
      ],
      "metadata": {
        "id": "VE5SueA9QB2L"
      }
    },
    {
      "cell_type": "code",
      "source": [
        "for input_example_batch, target_example_batch in data.take(1):\n",
        "  example_batch_predictions = model(input_example_batch)  # ask our model for a prediction on our first batch of training data (64 entries)\n",
        "  print(example_batch_predictions.shape, \"# (batch_size, sequence_length, vocab_size)\")  # print out the output shape"
      ],
      "metadata": {
        "colab": {
          "base_uri": "https://localhost:8080/"
        },
        "id": "NTcbRkrcPt2f",
        "outputId": "b5521ac4-64ae-496f-f908-6ae714b6cb0c"
      },
      "execution_count": 15,
      "outputs": [
        {
          "output_type": "stream",
          "name": "stdout",
          "text": [
            "(64, 100, 65) # (batch_size, sequence_length, vocab_size)\n"
          ]
        }
      ]
    },
    {
      "cell_type": "code",
      "source": [
        "# we can see that the predicition is an array of 64 arrays, one for each entry in the batch\n",
        "print(len(example_batch_predictions))\n",
        "print(example_batch_predictions)"
      ],
      "metadata": {
        "colab": {
          "base_uri": "https://localhost:8080/"
        },
        "id": "1oTzIkN0QJTq",
        "outputId": "0ea3396a-9dcd-4e1f-e04b-a8fa4f3182c4"
      },
      "execution_count": 16,
      "outputs": [
        {
          "output_type": "stream",
          "name": "stdout",
          "text": [
            "64\n",
            "tf.Tensor(\n",
            "[[[ 2.6689619e-03  7.1242275e-03  9.2442636e-04 ... -2.1696275e-03\n",
            "   -6.9645810e-04 -7.3643215e-04]\n",
            "  [ 5.4520782e-04  5.1136953e-03 -8.8859597e-05 ... -1.9401346e-03\n",
            "    4.2081494e-03  3.3043278e-04]\n",
            "  [ 6.3985358e-03  4.5895032e-03 -3.5562159e-03 ...  3.1026383e-03\n",
            "    2.9060799e-03 -1.1590844e-03]\n",
            "  ...\n",
            "  [-9.1450177e-03 -3.4011686e-03  2.1874057e-03 ... -5.0105499e-03\n",
            "    1.9240610e-03 -1.4445326e-02]\n",
            "  [-1.4952555e-03 -3.8595963e-03 -9.4987813e-04 ... -2.3878780e-03\n",
            "    1.5133580e-03 -1.3805853e-02]\n",
            "  [-1.2338888e-03 -4.1050073e-03 -3.4513997e-03 ... -5.3489977e-03\n",
            "    2.1666752e-03 -1.1913513e-02]]\n",
            "\n",
            " [[ 4.5000026e-03 -5.2941940e-03  3.1399883e-03 ...  5.2617845e-04\n",
            "    1.5793546e-03  3.0207331e-03]\n",
            "  [ 1.4424168e-04 -8.4293587e-03  5.0746294e-04 ...  2.1664940e-03\n",
            "    2.7141604e-03  1.0496870e-02]\n",
            "  [ 5.7156489e-04 -5.1313969e-03 -1.2207552e-04 ...  6.7694923e-03\n",
            "   -2.3117489e-03  9.4853062e-03]\n",
            "  ...\n",
            "  [-5.3950637e-03  3.0619935e-03 -3.8545099e-04 ... -4.1818828e-03\n",
            "    5.5958126e-03 -4.6348949e-03]\n",
            "  [-7.1734805e-03  3.8054669e-03 -1.6311300e-04 ... -3.1623242e-03\n",
            "    4.3146037e-03 -3.3816870e-03]\n",
            "  [-1.3185239e-02  3.0569069e-03 -1.3899471e-03 ... -3.9307838e-03\n",
            "    2.7789818e-03 -5.6836358e-03]]\n",
            "\n",
            " [[-3.7941991e-03 -4.3018698e-03 -1.6610767e-03 ...  1.8594699e-03\n",
            "    1.9498984e-03  8.3537288e-03]\n",
            "  [-6.3465472e-04 -4.4254279e-03 -7.7750823e-03 ...  4.4480837e-03\n",
            "    7.5079100e-03  2.4240559e-03]\n",
            "  [ 4.1867085e-03 -5.5078329e-03 -8.5859559e-03 ...  3.1747245e-03\n",
            "    1.4244186e-03  5.9066396e-03]\n",
            "  ...\n",
            "  [-1.3691590e-02 -2.5919131e-03 -1.0466820e-03 ... -1.4669652e-03\n",
            "    3.2509121e-03 -5.0203721e-03]\n",
            "  [-5.1091346e-03 -3.1082942e-03 -2.8962402e-03 ... -2.2593989e-04\n",
            "   -2.6925842e-03 -2.4215851e-03]\n",
            "  [-3.4021032e-03 -2.1517810e-03  1.8795059e-03 ...  1.1483758e-03\n",
            "    1.0594809e-03 -1.6438704e-03]]\n",
            "\n",
            " ...\n",
            "\n",
            " [[-4.6342625e-03  2.6859595e-03  1.0468732e-03 ... -1.3935561e-03\n",
            "   -2.1324349e-03 -3.6638135e-03]\n",
            "  [-2.6361390e-03  1.5629642e-03 -1.0795430e-03 ... -2.5367893e-03\n",
            "   -1.0962432e-03 -3.0587451e-03]\n",
            "  [-2.3795168e-03  1.9005685e-03  2.1367082e-03 ... -3.0234463e-03\n",
            "   -2.7850284e-03  6.5534195e-04]\n",
            "  ...\n",
            "  [-4.5881886e-03  6.4683785e-03  3.9874306e-03 ... -9.9561391e-03\n",
            "   -4.9311966e-03 -1.2222088e-03]\n",
            "  [ 2.9956643e-03  4.9852338e-03  1.2595848e-03 ... -5.7025519e-03\n",
            "   -3.6213715e-03 -3.3376922e-03]\n",
            "  [ 1.1035573e-03  5.4071815e-04 -2.4232674e-04 ... -9.0634618e-03\n",
            "   -8.9369511e-04 -3.0764721e-03]]\n",
            "\n",
            " [[ 1.1891668e-03 -2.8968651e-03 -1.0968393e-03 ...  2.0897630e-04\n",
            "   -8.1332523e-04 -4.7267494e-03]\n",
            "  [-7.0651551e-03 -1.6089695e-03 -8.9727389e-04 ...  9.4869238e-04\n",
            "   -1.4073682e-03 -5.4646055e-03]\n",
            "  [-9.4030863e-03 -3.0842894e-03 -3.9932127e-03 ...  5.1519922e-03\n",
            "    3.7100338e-03  1.2812436e-03]\n",
            "  ...\n",
            "  [-1.0930334e-03  9.8065929e-03  1.9270764e-03 ...  5.8268411e-03\n",
            "   -2.1855482e-03 -1.6023876e-03]\n",
            "  [-2.9716536e-03  2.2732164e-03  3.9117881e-03 ... -7.8404613e-04\n",
            "   -1.4216184e-03 -8.9481296e-03]\n",
            "  [-2.8035564e-03  5.8325217e-04  4.4827173e-03 ...  1.9685098e-04\n",
            "   -3.0139920e-03 -2.6593844e-03]]\n",
            "\n",
            " [[-8.1360396e-03  6.1731401e-04  4.8148373e-04 ...  4.9851160e-04\n",
            "   -9.6484844e-04 -2.9323734e-03]\n",
            "  [-1.4879175e-03  3.9929668e-03  5.0784287e-04 ... -4.3817172e-03\n",
            "   -6.4749722e-03 -2.6380164e-03]\n",
            "  [ 3.5607135e-03  4.6955277e-03  3.0923770e-03 ... -4.4956692e-03\n",
            "   -7.2970726e-03 -4.9382499e-03]\n",
            "  ...\n",
            "  [-7.0270943e-03 -8.5968996e-04  2.4926143e-03 ... -4.2502736e-03\n",
            "    1.7094816e-03 -1.0538074e-02]\n",
            "  [-2.2006016e-03  8.4524875e-04  7.2604637e-03 ... -2.5954871e-03\n",
            "    4.7674901e-03 -6.3541764e-03]\n",
            "  [-4.3062549e-03 -5.5938056e-03  7.0176455e-03 ... -7.8797815e-03\n",
            "    4.3034428e-03 -1.2943076e-02]]], shape=(64, 100, 65), dtype=float32)\n"
          ]
        }
      ]
    },
    {
      "cell_type": "code",
      "source": [
        "# lets examine one prediction\n",
        "pred = example_batch_predictions[0]\n",
        "print(len(pred))\n",
        "print(pred)\n",
        "# notice this is a 2d array of length 100, where each interior array is the prediction for the next character at each time step"
      ],
      "metadata": {
        "colab": {
          "base_uri": "https://localhost:8080/"
        },
        "id": "clhon30VQLWK",
        "outputId": "74ec22cf-5973-4a3c-eb70-cf6479253dee"
      },
      "execution_count": 17,
      "outputs": [
        {
          "output_type": "stream",
          "name": "stdout",
          "text": [
            "100\n",
            "tf.Tensor(\n",
            "[[ 2.6689619e-03  7.1242275e-03  9.2442636e-04 ... -2.1696275e-03\n",
            "  -6.9645810e-04 -7.3643215e-04]\n",
            " [ 5.4520782e-04  5.1136953e-03 -8.8859597e-05 ... -1.9401346e-03\n",
            "   4.2081494e-03  3.3043278e-04]\n",
            " [ 6.3985358e-03  4.5895032e-03 -3.5562159e-03 ...  3.1026383e-03\n",
            "   2.9060799e-03 -1.1590844e-03]\n",
            " ...\n",
            " [-9.1450177e-03 -3.4011686e-03  2.1874057e-03 ... -5.0105499e-03\n",
            "   1.9240610e-03 -1.4445326e-02]\n",
            " [-1.4952555e-03 -3.8595963e-03 -9.4987813e-04 ... -2.3878780e-03\n",
            "   1.5133580e-03 -1.3805853e-02]\n",
            " [-1.2338888e-03 -4.1050073e-03 -3.4513997e-03 ... -5.3489977e-03\n",
            "   2.1666752e-03 -1.1913513e-02]], shape=(100, 65), dtype=float32)\n"
          ]
        }
      ]
    },
    {
      "cell_type": "code",
      "source": [
        "# and finally well look at a prediction at the first timestep\n",
        "time_pred = pred[0]\n",
        "print(len(time_pred))\n",
        "print(time_pred)\n",
        "# and of course its 65 values representing the probabillity of each character occuring next"
      ],
      "metadata": {
        "colab": {
          "base_uri": "https://localhost:8080/"
        },
        "id": "hFlqkCE3QSYa",
        "outputId": "a6428033-5336-4345-f79b-a4e75ea91587"
      },
      "execution_count": 18,
      "outputs": [
        {
          "output_type": "stream",
          "name": "stdout",
          "text": [
            "65\n",
            "tf.Tensor(\n",
            "[ 0.00266896  0.00712423  0.00092443 -0.00180136 -0.00112374 -0.0093459\n",
            " -0.00467908 -0.00686646 -0.00191638  0.00337418  0.00201906 -0.00727935\n",
            "  0.00363835 -0.00627986 -0.00431121 -0.0022136  -0.0033052  -0.00414689\n",
            " -0.0035548  -0.00329995 -0.01196228  0.00184924  0.00321342  0.00263478\n",
            " -0.0013077  -0.001501    0.00013483  0.00663195 -0.00427773 -0.0082995\n",
            "  0.00434565  0.00192302  0.00327656  0.00010063 -0.0007845  -0.0055686\n",
            "  0.00410312 -0.00101522 -0.00631332 -0.00013281 -0.00142675 -0.00151265\n",
            "  0.00043202 -0.00098441  0.00062713 -0.00112656  0.00539808  0.00060397\n",
            "  0.0031465   0.00376959 -0.00309899  0.00020527 -0.00177377  0.00750922\n",
            " -0.00050925  0.00402068  0.00043059  0.00266882 -0.00676315  0.00366074\n",
            " -0.00193647 -0.00480805 -0.00216963 -0.00069646 -0.00073643], shape=(65,), dtype=float32)\n"
          ]
        }
      ]
    },
    {
      "cell_type": "code",
      "source": [
        "# If we want to determine the predicted character we need to sample the output distribution (pick a value based on probabillity)\n",
        "sampled_indices = tf.random.categorical(pred, num_samples=1)\n",
        "\n",
        "# now we can reshape that array and convert all the integers to numbers to see the actual characters\n",
        "sampled_indices = np.reshape(sampled_indices, (1, -1))[0]\n",
        "predicted_chars = int_to_text(sampled_indices)\n",
        "\n",
        "predicted_chars  # and this is what the model predicted for training sequence 1"
      ],
      "metadata": {
        "colab": {
          "base_uri": "https://localhost:8080/",
          "height": 35
        },
        "id": "6hzeu9IrQU83",
        "outputId": "d4e0e762-3c6b-4bc4-a649-6817b62c3f1e"
      },
      "execution_count": 19,
      "outputs": [
        {
          "output_type": "execute_result",
          "data": {
            "application/vnd.google.colaboratory.intrinsic+json": {
              "type": "string"
            },
            "text/plain": [
              "\"MI'bE?RWgHjV?Bt33KF!:YD.aDRPAh:suGYKeKb eDLinW,Krij,a,xWe.rGVYN!IIoRMsnrdb'KuFmwpgxpiZ&uTMPSjbGcaXEv\""
            ]
          },
          "metadata": {},
          "execution_count": 19
        }
      ]
    },
    {
      "cell_type": "code",
      "source": [
        "def loss(labels, logits):\n",
        "  return tf.keras.losses.sparse_categorical_crossentropy(labels, logits, from_logits=True)"
      ],
      "metadata": {
        "id": "3xQ7HqWVQXVb"
      },
      "execution_count": 20,
      "outputs": []
    },
    {
      "cell_type": "markdown",
      "source": [
        "**Compiling the Model**"
      ],
      "metadata": {
        "id": "q0tZDbdbQsjT"
      }
    },
    {
      "cell_type": "code",
      "source": [
        "model.compile(optimizer='adam', loss=loss)"
      ],
      "metadata": {
        "id": "DLAzuLBRQwGA"
      },
      "execution_count": 21,
      "outputs": []
    },
    {
      "cell_type": "markdown",
      "source": [
        "**Creating Checkpoint**"
      ],
      "metadata": {
        "id": "DUcyoKGgQ2PC"
      }
    },
    {
      "cell_type": "code",
      "source": [
        "# Directory where the checkpoints will be saved\n",
        "checkpoint_dir = './training_checkpoints'\n",
        "# Name of the checkpoint files\n",
        "checkpoint_prefix = os.path.join(checkpoint_dir, \"ckpt_{epoch}\")\n",
        "\n",
        "checkpoint_callback=tf.keras.callbacks.ModelCheckpoint(\n",
        "    filepath=checkpoint_prefix,\n",
        "    save_weights_only=True)"
      ],
      "metadata": {
        "id": "MQWt-uTOQyP8"
      },
      "execution_count": 22,
      "outputs": []
    },
    {
      "cell_type": "code",
      "source": [
        "#In this case there is no fear of over-fitting so more the number of epochs better the model will be\n",
        "history = model.fit(data, epochs=5, callbacks=[checkpoint_callback])"
      ],
      "metadata": {
        "colab": {
          "base_uri": "https://localhost:8080/"
        },
        "id": "nxZTQEa1Q5hw",
        "outputId": "7de8f5ac-3710-4c59-e2ec-c72ca5ff8995"
      },
      "execution_count": 24,
      "outputs": [
        {
          "output_type": "stream",
          "name": "stdout",
          "text": [
            "Epoch 1/5\n",
            "172/172 [==============================] - 31s 173ms/step - loss: 1.5501\n",
            "Epoch 2/5\n",
            "172/172 [==============================] - 31s 173ms/step - loss: 1.4827\n",
            "Epoch 3/5\n",
            "172/172 [==============================] - 31s 173ms/step - loss: 1.4330\n",
            "Epoch 4/5\n",
            "172/172 [==============================] - 31s 172ms/step - loss: 1.3961\n",
            "Epoch 5/5\n",
            "172/172 [==============================] - 31s 172ms/step - loss: 1.3654\n"
          ]
        }
      ]
    },
    {
      "cell_type": "code",
      "source": [
        "model = build_model(VOCAB_SIZE, EMBEDDING_DIM, RNN_UNITS, batch_size=1)"
      ],
      "metadata": {
        "id": "LlpWoMNGSOT-"
      },
      "execution_count": 25,
      "outputs": []
    },
    {
      "cell_type": "code",
      "source": [
        "model.load_weights(tf.train.latest_checkpoint(checkpoint_dir))\n",
        "model.build(tf.TensorShape([1, None]))"
      ],
      "metadata": {
        "id": "xenTLv_uSQmq"
      },
      "execution_count": 26,
      "outputs": []
    },
    {
      "cell_type": "code",
      "source": [
        "checkpoint_num = 10\n",
        "model.load_weights(tf.train.load_checkpoint(\"./training_checkpoints/ckpt_\" + str(checkpoint_num)))\n",
        "model.build(tf.TensorShape([1, None]))"
      ],
      "metadata": {
        "id": "Jv1gsATsT1gX"
      },
      "execution_count": null,
      "outputs": []
    },
    {
      "cell_type": "markdown",
      "source": [
        "**Generating Text**"
      ],
      "metadata": {
        "id": "tFUCrIyRSj_A"
      }
    },
    {
      "cell_type": "code",
      "source": [
        "def generate_text(model, start_string):\n",
        "  # Evaluation step (generating text using the learned model)\n",
        "\n",
        "  # Number of characters to generate\n",
        "  num_generate = 800\n",
        "\n",
        "  # Converting our start string to numbers (vectorizing)\n",
        "  input_eval = [char2idx[s] for s in start_string]\n",
        "  input_eval = tf.expand_dims(input_eval, 0)\n",
        "\n",
        "  # Empty string to store our results\n",
        "  text_generated = []\n",
        "\n",
        "  # Low temperatures results in more predictable text.\n",
        "  # Higher temperatures results in more surprising text.\n",
        "  # Experiment to find the best setting.\n",
        "  temperature = 1.0\n",
        "\n",
        "  # Here batch size == 1\n",
        "  model.reset_states()\n",
        "  for i in range(num_generate):\n",
        "      predictions = model(input_eval)\n",
        "      # remove the batch dimension\n",
        "    \n",
        "      predictions = tf.squeeze(predictions, 0)\n",
        "\n",
        "      # using a categorical distribution to predict the character returned by the model\n",
        "      predictions = predictions / temperature\n",
        "      predicted_id = tf.random.categorical(predictions, num_samples=1)[-1,0].numpy()\n",
        "\n",
        "      # We pass the predicted character as the next input to the model\n",
        "      # along with the previous hidden state\n",
        "      input_eval = tf.expand_dims([predicted_id], 0)\n",
        "\n",
        "      text_generated.append(idx2char[predicted_id])\n",
        "\n",
        "  return (start_string + ''.join(text_generated))"
      ],
      "metadata": {
        "id": "aQPULTX3Sf9I"
      },
      "execution_count": 29,
      "outputs": []
    },
    {
      "cell_type": "code",
      "source": [
        "inp = input(\"Type a starting string: \")\n",
        "print(generate_text(model, inp))"
      ],
      "metadata": {
        "colab": {
          "base_uri": "https://localhost:8080/"
        },
        "id": "qX0LVlPtSnbH",
        "outputId": "8389e5ad-c466-40ea-ee9c-522627de6360"
      },
      "execution_count": 30,
      "outputs": [
        {
          "output_type": "stream",
          "name": "stdout",
          "text": [
            "Type a starting string: romeo\n",
            "romeow my thrick in'er\n",
            "comm them thank your loss betwn not, Bonalunation\n",
            "With would have revengent, yet. The world a man ten hope and this ansile\n",
            "Pity men: never well neat, and see them, good and Marcius brought\n",
            "I gove me so not out eyes, I am:\n",
            "All foller unralmad wills,\n",
            "As thorucently touch my monies munder perpetes\n",
            "Cault from the supt the Volsence,\n",
            "Which doth he becless a sacraper,\n",
            "Wherefore I must feak Bulint o' the enough.\n",
            "\n",
            "LUCENTIO:\n",
            "My lord!\n",
            "You skeep, and now she wouldest us you?\n",
            "\n",
            "AUTOLYCUS:\n",
            "I pray the dourness, and dear bringshed:\n",
            "And thites we after men of England's ve\n",
            "bears me here of a kind, resign; whose field\n",
            "Her painces soldier, come to me, noble as go\n",
            "Of the emindness, darns wounded the wanch of Beauth.\n",
            "\n",
            "HASTINGS:\n",
            "Ah, pourted, nor my soke\n",
            "Writch thou says my consence.\n",
            "\n",
            "LADY GREY:\n",
            "\n"
          ]
        }
      ]
    }
  ]
}